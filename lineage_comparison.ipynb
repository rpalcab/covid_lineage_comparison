{
 "cells": [
  {
   "cell_type": "code",
   "execution_count": 1,
   "metadata": {},
   "outputs": [],
   "source": [
    "import pandas as pd\n",
    "import requests\n",
    "import numpy as np\n",
    "import json"
   ]
  },
  {
   "cell_type": "code",
   "execution_count": 2,
   "metadata": {},
   "outputs": [],
   "source": [
    "# Change lineages to the ones you want to compare\n",
    "lineage = ['BA.2.75', 'BQ.1']\n",
    "\n",
    "# Minimum percentage of samples in GISAID that should have the SNP to be considered. (Default = 90%)\n",
    "thr = 0.9"
   ]
  },
  {
   "cell_type": "code",
   "execution_count": 3,
   "metadata": {},
   "outputs": [
    {
     "name": "stdout",
     "output_type": "stream",
     "text": [
      "Url is https://lapis.cov-spectrum.org/open/v1/sample/nuc-mutations?pangoLineage=BA.2.75&downloadAsFile=false&dataFormat=json\n",
      "Url is https://lapis.cov-spectrum.org/open/v1/sample/nuc-mutations?pangoLineage=BQ.1&downloadAsFile=false&dataFormat=json\n"
     ]
    }
   ],
   "source": [
    "\"\"\"\n",
    "Code adapted from sc2rf to access lapis json of SNPs.\n",
    "Filters SNPs over threshold.\n",
    "\"\"\"\n",
    "list_df = []\n",
    "\n",
    "for i in lineage:\n",
    "    url = f'https://lapis.cov-spectrum.org/open/v1/sample/nuc-mutations?pangoLineage={i}&downloadAsFile=false&dataFormat=json'\n",
    "    print(f\"Url is {url}\")\n",
    "    r = requests.get(url)\n",
    "    result = r.json()\n",
    "    df = pd.json_normalize(result['data'])\n",
    "    df.drop(df[df['proportion'] < thr].index, inplace=True)\n",
    "    df.drop(columns=['proportion', 'count'], inplace=True)\n",
    "    list_df.append(df)"
   ]
  },
  {
   "cell_type": "code",
   "execution_count": 4,
   "metadata": {},
   "outputs": [
    {
     "name": "stdout",
     "output_type": "stream",
     "text": [
      "Specific SNPs of BA.2.75\n",
      "29     A27259C\n",
      "51     G15451A\n",
      "55     G22898A\n",
      "56     G27382C\n",
      "57     A27383T\n",
      "58     T27384C\n",
      "118     C9866T\n",
      "119    C26858T\n",
      "120    C25416T\n",
      "121    G22331A\n",
      "122     C4586T\n",
      "123    A12444G\n",
      "124    A22001G\n",
      "125    G22577C\n",
      "126    T22942G\n",
      "127    A26275G\n",
      "128    T22016C\n",
      "129     C3796T\n",
      "130    C22033A\n",
      "131    A22190G\n",
      "132     C3927T\n",
      "133     C5183T\n",
      "Name: mutation, dtype: object \n",
      "\n",
      "\n",
      "Specific SNPs of BQ.1\n",
      "134    T14257C\n",
      "135    T21765-\n",
      "136    C28312T\n",
      "137    A21766-\n",
      "138    C21767-\n",
      "139    A21768-\n",
      "140    T21769-\n",
      "141    G21770-\n",
      "142    T22917G\n",
      "143    G12160A\n",
      "144    T23018G\n",
      "145    G26529A\n",
      "146    C27889T\n",
      "147     T2954C\n",
      "148    G16935A\n",
      "149    C11750T\n",
      "150    T22942A\n",
      "151    G28681T\n",
      "152     C1931A\n",
      "153    A22893C\n",
      "Name: mutation, dtype: object\n"
     ]
    }
   ],
   "source": [
    "\"\"\"\n",
    "Creates 2 dfs:\n",
    "    - df1: Corresponds to SNPs specific of lineage 1\n",
    "    - df2: Corresponds to SNPs specific of lineage 2\n",
    "\"\"\"\n",
    "df = list_df[0].merge(list_df[1], on='mutation', how='outer', indicator=True)\n",
    "new_df = df.drop(df[df['_merge'] == 'both'].index)\n",
    "\n",
    "print('Specific SNPs of', lineage[0])\n",
    "df1 = new_df[new_df['_merge'] == 'left_only']\n",
    "if len(new_df) > 0:\n",
    "    print(df1['mutation'], '\\n\\n')\n",
    "\n",
    "print('Specific SNPs of', lineage[1])\n",
    "df2 = new_df[new_df['_merge'] == 'right_only']\n",
    "if len(new_df) > 0:\n",
    "    print(df2['mutation'])"
   ]
  }
 ],
 "metadata": {
  "kernelspec": {
   "display_name": "Python 3.9.7 ('base')",
   "language": "python",
   "name": "python3"
  },
  "language_info": {
   "codemirror_mode": {
    "name": "ipython",
    "version": 3
   },
   "file_extension": ".py",
   "mimetype": "text/x-python",
   "name": "python",
   "nbconvert_exporter": "python",
   "pygments_lexer": "ipython3",
   "version": "3.9.7"
  },
  "orig_nbformat": 4,
  "vscode": {
   "interpreter": {
    "hash": "d130ca42b532f14c740c9405384e6a25814bad609bad1a40b3b3f26954036080"
   }
  }
 },
 "nbformat": 4,
 "nbformat_minor": 2
}
