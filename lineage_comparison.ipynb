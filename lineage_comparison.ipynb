{
 "cells": [
  {
   "cell_type": "code",
   "execution_count": 1,
   "metadata": {},
   "outputs": [],
   "source": [
    "import pandas as pd\n",
    "import requests\n",
    "import numpy as np\n",
    "import json"
   ]
  },
  {
   "cell_type": "code",
   "execution_count": 2,
   "metadata": {},
   "outputs": [],
   "source": [
    "lineage = ['BA.2', 'BA.2.1']\n",
    "thr = 0.9"
   ]
  },
  {
   "cell_type": "code",
   "execution_count": 3,
   "metadata": {},
   "outputs": [
    {
     "name": "stdout",
     "output_type": "stream",
     "text": [
      "Url is https://lapis.cov-spectrum.org/open/v1/sample/nuc-mutations?pangoLineage=BA.2&downloadAsFile=false&dataFormat=json\n",
      "Url is https://lapis.cov-spectrum.org/open/v1/sample/nuc-mutations?pangoLineage=BA.2.1&downloadAsFile=false&dataFormat=json\n"
     ]
    }
   ],
   "source": [
    "\"\"\"\n",
    "Code adapted from sc2rf\n",
    "\"\"\"\n",
    "list_df = []\n",
    "\n",
    "for i in lineage:\n",
    "    url = f'https://lapis.cov-spectrum.org/open/v1/sample/nuc-mutations?pangoLineage={i}&downloadAsFile=false&dataFormat=json'\n",
    "    print(f\"Url is {url}\")\n",
    "    r = requests.get(url)\n",
    "    result = r.json()\n",
    "    df = pd.json_normalize(result['data'])\n",
    "    df.drop(df[df['proportion'] < thr].index, inplace=True)\n",
    "    df.drop(columns=['proportion', 'count'], inplace=True)\n",
    "    list_df.append(df)"
   ]
  },
  {
   "cell_type": "code",
   "execution_count": 4,
   "metadata": {},
   "outputs": [
    {
     "name": "stdout",
     "output_type": "stream",
     "text": [
      "Specific SNPs of BA.2\n",
      "Series([], Name: mutation, dtype: object) \n",
      "\n",
      "\n",
      "Specific SNPs of BA.2.1\n",
      "93     G29734-\n",
      "94     A29735-\n",
      "95     G29736-\n",
      "96     G29737-\n",
      "97     C29738-\n",
      "98     C29739-\n",
      "99     A29740-\n",
      "100    C29741-\n",
      "101    G29742-\n",
      "102    C29743-\n",
      "103    G29744-\n",
      "104    G29745-\n",
      "105    A29746-\n",
      "106    G29747-\n",
      "107    T29748-\n",
      "108    A29749-\n",
      "109    C29750-\n",
      "110    G29751-\n",
      "111    A29752-\n",
      "112    T29753-\n",
      "113    C29754-\n",
      "114    G29755-\n",
      "115    A29756-\n",
      "116    G29757-\n",
      "117    T29758-\n",
      "118    G29759-\n",
      "119    C12789T\n",
      "Name: mutation, dtype: object\n"
     ]
    }
   ],
   "source": [
    "df = list_df[0].merge(list_df[1], on='mutation', how='outer', indicator=True)\n",
    "new_df = df.drop(df[df['_merge'] == 'both'].index)\n",
    "\n",
    "print('Specific SNPs of', lineage[0])\n",
    "df1 = new_df[new_df['_merge'] == 'left_only']\n",
    "if len(new_df) > 0:\n",
    "    print(df1['mutation'], '\\n\\n')\n",
    "\n",
    "print('Specific SNPs of', lineage[1])\n",
    "df2 = new_df[new_df['_merge'] == 'right_only']\n",
    "if len(new_df) > 0:\n",
    "    print(df2['mutation'])"
   ]
  }
 ],
 "metadata": {
  "kernelspec": {
   "display_name": "Python 3.9.7 ('base')",
   "language": "python",
   "name": "python3"
  },
  "language_info": {
   "codemirror_mode": {
    "name": "ipython",
    "version": 3
   },
   "file_extension": ".py",
   "mimetype": "text/x-python",
   "name": "python",
   "nbconvert_exporter": "python",
   "pygments_lexer": "ipython3",
   "version": "3.9.7"
  },
  "orig_nbformat": 4,
  "vscode": {
   "interpreter": {
    "hash": "d130ca42b532f14c740c9405384e6a25814bad609bad1a40b3b3f26954036080"
   }
  }
 },
 "nbformat": 4,
 "nbformat_minor": 2
}
