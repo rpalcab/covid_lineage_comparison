{
 "cells": [
  {
   "cell_type": "code",
   "execution_count": 1,
   "metadata": {},
   "outputs": [],
   "source": [
    "import pandas as pd\n",
    "import requests\n",
    "from Bio import SeqIO"
   ]
  },
  {
   "cell_type": "code",
   "execution_count": 2,
   "metadata": {},
   "outputs": [],
   "source": [
    "lineages = ['BQ.1.1']\n",
    "thr = 0.9\n",
    "out_path = '/media/NASII/Datos/ANALYSIS/MISC/covid_analysis/variant_fastas/'"
   ]
  },
  {
   "cell_type": "code",
   "execution_count": 3,
   "metadata": {},
   "outputs": [],
   "source": [
    "def get_markers(lineage, thr):\n",
    "    # Get SNPs above threshold from Lapis and save to df\n",
    "    url = f'https://lapis.cov-spectrum.org/open/v1/sample/nuc-mutations?pangoLineage={lineage}&downloadAsFile=false&dataFormat=json'\n",
    "    print(f\"Url is {url}\")\n",
    "    r = requests.get(url)\n",
    "    result = r.json()\n",
    "    df = pd.json_normalize(result['data'])\n",
    "    df.drop(df[df['proportion'] < thr].index, inplace=True)\n",
    "    df.drop(columns=['proportion', 'count'], inplace=True)\n",
    "\n",
    "    # Get REF, POS and ALT from df \n",
    "    df[['REF', 'POS', 'ALT']] = df['mutation'].str.extract('(\\D+)(\\d+)(\\D+)', expand=True)\n",
    "\n",
    "    return df"
   ]
  },
  {
   "cell_type": "code",
   "execution_count": 4,
   "metadata": {},
   "outputs": [],
   "source": [
    "def consensus(df):\n",
    "    # Read Wuhan reference\n",
    "    wuhan_seq = SeqIO.parse(open('/home/laura/iisgm/NC_045512.2.fasta'),'fasta')\n",
    "    # Extract fasta sequence\n",
    "    for fasta in wuhan_seq:\n",
    "        seq = list(str(fasta.seq))\n",
    "    # Modify reference to create lineage sequence\n",
    "    for _, row in df.iterrows():\n",
    "        pos = int(row['POS']) - 1\n",
    "        alt = row['ALT']\n",
    "        seq[pos] = alt\n",
    "\n",
    "    return ''.join(seq)"
   ]
  },
  {
   "cell_type": "code",
   "execution_count": 5,
   "metadata": {},
   "outputs": [
    {
     "name": "stdout",
     "output_type": "stream",
     "text": [
      "Url is https://lapis.cov-spectrum.org/open/v1/sample/nuc-mutations?pangoLineage=BQ.1.1&downloadAsFile=false&dataFormat=json\n"
     ]
    }
   ],
   "source": [
    "for lineage in lineages:\n",
    "    df = get_markers(lineage, thr)\n",
    "    variant_fasta = consensus(df)\n",
    "    # Outuput SNP tablo to new_file\n",
    "    df.to_csv(out_path + lineage + '.csv', index=False)\n",
    "    # Output sequence to new file \n",
    "    with open(out_path + lineage + '.fasta', 'w') as of:\n",
    "        ident = '>' + lineage + '\\n'\n",
    "        of.write(ident)\n",
    "        of.write(variant_fasta)"
   ]
  }
 ],
 "metadata": {
  "kernelspec": {
   "display_name": "Python 3.9.7 ('base')",
   "language": "python",
   "name": "python3"
  },
  "language_info": {
   "codemirror_mode": {
    "name": "ipython",
    "version": 3
   },
   "file_extension": ".py",
   "mimetype": "text/x-python",
   "name": "python",
   "nbconvert_exporter": "python",
   "pygments_lexer": "ipython3",
   "version": "3.9.7"
  },
  "orig_nbformat": 4,
  "vscode": {
   "interpreter": {
    "hash": "d130ca42b532f14c740c9405384e6a25814bad609bad1a40b3b3f26954036080"
   }
  }
 },
 "nbformat": 4,
 "nbformat_minor": 2
}
